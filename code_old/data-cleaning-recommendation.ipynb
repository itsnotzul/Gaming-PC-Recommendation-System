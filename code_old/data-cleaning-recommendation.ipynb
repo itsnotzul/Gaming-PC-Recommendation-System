{
 "cells": [
  {
   "cell_type": "markdown",
   "metadata": {},
   "source": [
    "# Cleaning the Recommendation Data"
   ]
  },
  {
   "cell_type": "code",
   "execution_count": 2,
   "metadata": {},
   "outputs": [],
   "source": [
    "import pandas as pd"
   ]
  },
  {
   "cell_type": "code",
   "execution_count": 6,
   "metadata": {},
   "outputs": [],
   "source": [
    "# set a path there if the files cant be read\n",
    "path = r\"steam recommendations/\"\n",
    "\n",
    "df = pd.read_csv(path + 'recommendations.csv')"
   ]
  },
  {
   "cell_type": "code",
   "execution_count": null,
   "metadata": {},
   "outputs": [],
   "source": [
    "df.head()"
   ]
  },
  {
   "cell_type": "code",
   "execution_count": null,
   "metadata": {},
   "outputs": [],
   "source": [
    "print(df['user_id'].nunique())\n",
    "print(len(df))\n",
    "print(df['user_id'].value_counts())"
   ]
  },
  {
   "cell_type": "code",
   "execution_count": 16,
   "metadata": {},
   "outputs": [],
   "source": [
    "# Filter rows where 'is_recommended' is True\n",
    "df_positive = df[df['is_recommended']]\n",
    "\n",
    "# Count occurrences of each unique value in the 'Item' column\n",
    "value_counts = df_positive['user_id'].value_counts()\n",
    "\n",
    "# value_counts = df['user_id'].value_counts()"
   ]
  },
  {
   "cell_type": "code",
   "execution_count": null,
   "metadata": {},
   "outputs": [],
   "source": [
    "df_positive.head()"
   ]
  },
  {
   "cell_type": "code",
   "execution_count": null,
   "metadata": {},
   "outputs": [],
   "source": [
    "recurring_values = value_counts[value_counts > 1]\n",
    "\n",
    "with open(\"recurring_values.txt\", \"w\") as file:\n",
    "    file.write(\"Recurring Values and Their Counts:\\n\")\n",
    "    for value, count in recurring_values.items():\n",
    "        file.write(f\"Value: {value}, Count: {count}\\n\")\n",
    "\n",
    "print(\"Recurring values saved to recurring_values.txt\")"
   ]
  },
  {
   "cell_type": "code",
   "execution_count": null,
   "metadata": {},
   "outputs": [],
   "source": [
    "# change this value later (i have a feeling 5 to 15 is a wack number of recommendations)\n",
    "vals = value_counts[(value_counts >= 5) & (value_counts <= 15)]\n",
    "print(vals)"
   ]
  },
  {
   "cell_type": "code",
   "execution_count": 31,
   "metadata": {},
   "outputs": [],
   "source": [
    "item_names = vals.index.tolist()\n",
    "print(item_names)"
   ]
  },
  {
   "cell_type": "code",
   "execution_count": 39,
   "metadata": {},
   "outputs": [],
   "source": [
    "filtered_df = df[df['user_id'].isin(item_names)]\n",
    "filtered_df.head()"
   ]
  },
  {
   "cell_type": "code",
   "execution_count": 40,
   "metadata": {},
   "outputs": [],
   "source": [
    "filtered_df = filtered_df.loc[:, ['app_id', 'user_id']]\n",
    "filtered_df.head()"
   ]
  },
  {
   "cell_type": "code",
   "execution_count": 45,
   "metadata": {},
   "outputs": [],
   "source": [
    "aggregated_df = filtered_df.groupby('user_id')['app_id'].agg(list).reset_index()"
   ]
  },
  {
   "cell_type": "code",
   "execution_count": null,
   "metadata": {},
   "outputs": [],
   "source": [
    "aggregated_df.head()"
   ]
  },
  {
   "cell_type": "code",
   "execution_count": 49,
   "metadata": {},
   "outputs": [],
   "source": [
    "aggregated_df.to_csv('user_with_recommendation_list.csv', index=False)"
   ]
  }
 ],
 "metadata": {
  "kernelspec": {
   "display_name": "Python 3",
   "language": "python",
   "name": "python3"
  },
  "language_info": {
   "codemirror_mode": {
    "name": "ipython",
    "version": 3
   },
   "file_extension": ".py",
   "mimetype": "text/x-python",
   "name": "python",
   "nbconvert_exporter": "python",
   "pygments_lexer": "ipython3",
   "version": "3.12.3"
  }
 },
 "nbformat": 4,
 "nbformat_minor": 2
}
