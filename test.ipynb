{
 "cells": [
  {
   "cell_type": "code",
   "execution_count": 4,
   "id": "dffc419b",
   "metadata": {},
   "outputs": [],
   "source": [
    "import numpy as np\n",
    "import pandas as pd"
   ]
  },
  {
   "cell_type": "code",
   "execution_count": 5,
   "id": "28bd9621",
   "metadata": {},
   "outputs": [],
   "source": [
    "path = \"data/parts/\"\n",
    "\n",
    "cpus = pd.read_csv(path + \"CPU_Data.csv\")\n",
    "gpus = pd.read_csv(path + \"GPU_Data.csv\")\n",
    "rams = pd.read_csv(path + \"RAM_Data.csv\")\n",
    "\n",
    "motherboards = pd.read_csv(path + \"MOBO_Data.csv\")\n",
    "psus = pd.read_csv(path + \"PSU_Data.csv\")\n",
    "cases = pd.read_csv(path + \"Case_Data.csv\")\n",
    "storage = pd.read_csv(path + \"Storage_Data.csv\")\n"
   ]
  },
  {
   "cell_type": "code",
   "execution_count": 6,
   "id": "303edb2d",
   "metadata": {},
   "outputs": [
    {
     "name": "stdout",
     "output_type": "stream",
     "text": [
      "Name: cpus\n"
     ]
    },
    {
     "data": {
      "text/plain": [
       "Index(['Unnamed: 0', 'Brand', 'Name', 'Socket', 'Score', 'Price', 'URL',\n",
       "       'Timestamp'],\n",
       "      dtype='object')"
      ]
     },
     "metadata": {},
     "output_type": "display_data"
    },
    {
     "name": "stdout",
     "output_type": "stream",
     "text": [
      "Name: gpus\n"
     ]
    },
    {
     "data": {
      "text/plain": [
       "Index(['Brand', 'Name', 'Score', 'Series', 'Price', 'Power Consumption',\n",
       "       'Recommended Power'],\n",
       "      dtype='object')"
      ]
     },
     "metadata": {},
     "output_type": "display_data"
    },
    {
     "name": "stdout",
     "output_type": "stream",
     "text": [
      "Name: rams\n"
     ]
    },
    {
     "data": {
      "text/plain": [
       "Index(['Brand', 'Name', 'Capacity (GB)', 'Speed (MHz)', 'DDR', 'Price', 'URL',\n",
       "       'Timestamp'],\n",
       "      dtype='object')"
      ]
     },
     "metadata": {},
     "output_type": "display_data"
    },
    {
     "name": "stdout",
     "output_type": "stream",
     "text": [
      "Name: motherboards\n"
     ]
    },
    {
     "data": {
      "text/plain": [
       "Index(['Brand', 'Name', 'Socket', 'Size', 'DDR', 'RAM Slot', 'NVMe Slot',\n",
       "       'SATA Slot', 'Wifi', 'Price', 'URL', 'Timestamp', 'Note'],\n",
       "      dtype='object')"
      ]
     },
     "metadata": {},
     "output_type": "display_data"
    },
    {
     "name": "stdout",
     "output_type": "stream",
     "text": [
      "Name: psus\n"
     ]
    },
    {
     "data": {
      "text/plain": [
       "Index(['Brand', 'Name', '80+ Rating', 'Wattage', 'Price', 'URL', 'Timestamp'], dtype='object')"
      ]
     },
     "metadata": {},
     "output_type": "display_data"
    },
    {
     "name": "stdout",
     "output_type": "stream",
     "text": [
      "Name: cases\n"
     ]
    },
    {
     "data": {
      "text/plain": [
       "Index(['Brand', 'Name', 'Size', 'Price', 'URL', 'Timestamp', 'Note', 'Colour'], dtype='object')"
      ]
     },
     "metadata": {},
     "output_type": "display_data"
    },
    {
     "name": "stdout",
     "output_type": "stream",
     "text": [
      "Name: storage\n"
     ]
    },
    {
     "data": {
      "text/plain": [
       "Index(['Brand', 'Model', 'Capacity (GB)', 'Storage Type', 'Read (MB)',\n",
       "       'Write (MB)', 'Price'],\n",
       "      dtype='object')"
      ]
     },
     "metadata": {},
     "output_type": "display_data"
    }
   ],
   "source": [
    "dfs = [cpus, gpus, rams, motherboards, psus, cases, storage]\n",
    "df_names = [\"cpus\", \"gpus\", \"rams\", \"motherboards\", \"psus\", \"cases\", \"storage\"]\n",
    "\n",
    "for df, name in zip(dfs, df_names):\n",
    "    print(f'Name: {name}')\n",
    "    display(df.columns)"
   ]
  },
  {
   "cell_type": "code",
   "execution_count": 9,
   "id": "cbd712ea",
   "metadata": {},
   "outputs": [
    {
     "data": {
      "text/plain": [
       "array([nan, 'CSM', 'Ice', 'Black', 'White', 'DNR', 'DNR, Sonic', 'MEOW'],\n",
       "      dtype=object)"
      ]
     },
     "metadata": {},
     "output_type": "display_data"
    },
    {
     "data": {
      "text/plain": [
       "array(['TG', nan, 'TG, ARGB', 'Touchscreen', 'ARGB',\n",
       "       'Automobili Lamborghini Edition', 'TG, Wood', 'TG, DNR', 'Wood',\n",
       "       'Steel, 500 Watt Power', 'Steel', 'Steel, ODD, 500 Watt Power'],\n",
       "      dtype=object)"
      ]
     },
     "metadata": {},
     "output_type": "display_data"
    }
   ],
   "source": [
    "for df in [motherboards, cases]:\n",
    "    display(df['Note'].unique())"
   ]
  },
  {
   "cell_type": "code",
   "execution_count": 21,
   "id": "5a9ef549",
   "metadata": {},
   "outputs": [
    {
     "data": {
      "text/html": [
       "<div>\n",
       "<style scoped>\n",
       "    .dataframe tbody tr th:only-of-type {\n",
       "        vertical-align: middle;\n",
       "    }\n",
       "\n",
       "    .dataframe tbody tr th {\n",
       "        vertical-align: top;\n",
       "    }\n",
       "\n",
       "    .dataframe thead th {\n",
       "        text-align: right;\n",
       "    }\n",
       "</style>\n",
       "<table border=\"1\" class=\"dataframe\">\n",
       "  <thead>\n",
       "    <tr style=\"text-align: right;\">\n",
       "      <th></th>\n",
       "      <th>Brand</th>\n",
       "      <th>Name</th>\n",
       "      <th>Socket</th>\n",
       "      <th>Score</th>\n",
       "      <th>Price</th>\n",
       "      <th>URL</th>\n",
       "      <th>Timestamp</th>\n",
       "    </tr>\n",
       "  </thead>\n",
       "  <tbody>\n",
       "    <tr>\n",
       "      <th>0</th>\n",
       "      <td>AMD</td>\n",
       "      <td>Athlon 3000G</td>\n",
       "      <td>AM4</td>\n",
       "      <td>4452</td>\n",
       "      <td>219</td>\n",
       "      <td>https://brightstarcomp.com/collections/pc-comp...</td>\n",
       "      <td>2025-03-18 22:10:07</td>\n",
       "    </tr>\n",
       "    <tr>\n",
       "      <th>1</th>\n",
       "      <td>Intel</td>\n",
       "      <td>Core i3-12100F</td>\n",
       "      <td>LGA1700</td>\n",
       "      <td>14090</td>\n",
       "      <td>339</td>\n",
       "      <td>https://brightstarcomp.com/collections/pc-comp...</td>\n",
       "      <td>2025-03-18 22:10:09</td>\n",
       "    </tr>\n",
       "    <tr>\n",
       "      <th>2</th>\n",
       "      <td>Intel</td>\n",
       "      <td>Core i3-14100</td>\n",
       "      <td>FCLGA1700</td>\n",
       "      <td>15378</td>\n",
       "      <td>469</td>\n",
       "      <td>https://czone.my/czone/bx8071514100-1739103180...</td>\n",
       "      <td>2025-03-19 14:21:03</td>\n",
       "    </tr>\n",
       "    <tr>\n",
       "      <th>3</th>\n",
       "      <td>Intel</td>\n",
       "      <td>Core i3-14100</td>\n",
       "      <td>LGA1700</td>\n",
       "      <td>15082</td>\n",
       "      <td>519</td>\n",
       "      <td>https://brightstarcomp.com/collections/pc-comp...</td>\n",
       "      <td>2025-03-18 22:10:09</td>\n",
       "    </tr>\n",
       "    <tr>\n",
       "      <th>4</th>\n",
       "      <td>Intel</td>\n",
       "      <td>Core i3-14100F</td>\n",
       "      <td>LGA1700</td>\n",
       "      <td>15378</td>\n",
       "      <td>379</td>\n",
       "      <td>https://brightstarcomp.com/collections/pc-comp...</td>\n",
       "      <td>2025-03-18 22:10:09</td>\n",
       "    </tr>\n",
       "    <tr>\n",
       "      <th>...</th>\n",
       "      <td>...</td>\n",
       "      <td>...</td>\n",
       "      <td>...</td>\n",
       "      <td>...</td>\n",
       "      <td>...</td>\n",
       "      <td>...</td>\n",
       "      <td>...</td>\n",
       "    </tr>\n",
       "    <tr>\n",
       "      <th>110</th>\n",
       "      <td>AMD</td>\n",
       "      <td>Ryzen 9 7950X3D</td>\n",
       "      <td>AM5</td>\n",
       "      <td>62453</td>\n",
       "      <td>2999</td>\n",
       "      <td>https://brightstarcomp.com/collections/pc-comp...</td>\n",
       "      <td>2025-03-18 22:10:09</td>\n",
       "    </tr>\n",
       "    <tr>\n",
       "      <th>111</th>\n",
       "      <td>AMD</td>\n",
       "      <td>Ryzen 9 9900X</td>\n",
       "      <td>AM5</td>\n",
       "      <td>54804</td>\n",
       "      <td>2149</td>\n",
       "      <td>https://brightstarcomp.com/collections/pc-comp...</td>\n",
       "      <td>2025-03-18 22:10:09</td>\n",
       "    </tr>\n",
       "    <tr>\n",
       "      <th>112</th>\n",
       "      <td>AMD</td>\n",
       "      <td>Ryzen 9 9900X</td>\n",
       "      <td>AM5</td>\n",
       "      <td>54804</td>\n",
       "      <td>1999</td>\n",
       "      <td>https://czone.my/czone/100-100000662wof-173910...</td>\n",
       "      <td>2025-03-19 14:21:03</td>\n",
       "    </tr>\n",
       "    <tr>\n",
       "      <th>113</th>\n",
       "      <td>AMD</td>\n",
       "      <td>Ryzen 9 9950X</td>\n",
       "      <td>AM5</td>\n",
       "      <td>66310</td>\n",
       "      <td>3049</td>\n",
       "      <td>https://brightstarcomp.com/collections/pc-comp...</td>\n",
       "      <td>2025-03-18 22:10:09</td>\n",
       "    </tr>\n",
       "    <tr>\n",
       "      <th>114</th>\n",
       "      <td>AMD</td>\n",
       "      <td>Ryzen 9 9950X</td>\n",
       "      <td>AM5</td>\n",
       "      <td>66310</td>\n",
       "      <td>2849</td>\n",
       "      <td>https://czone.my/czone/100-100001277wof-173910...</td>\n",
       "      <td>2025-03-19 14:21:03</td>\n",
       "    </tr>\n",
       "  </tbody>\n",
       "</table>\n",
       "<p>115 rows × 7 columns</p>\n",
       "</div>"
      ],
      "text/plain": [
       "     Brand             Name     Socket  Score  Price  \\\n",
       "0      AMD     Athlon 3000G        AM4   4452    219   \n",
       "1    Intel   Core i3-12100F    LGA1700  14090    339   \n",
       "2    Intel    Core i3-14100  FCLGA1700  15378    469   \n",
       "3    Intel    Core i3-14100    LGA1700  15082    519   \n",
       "4    Intel   Core i3-14100F    LGA1700  15378    379   \n",
       "..     ...              ...        ...    ...    ...   \n",
       "110    AMD  Ryzen 9 7950X3D        AM5  62453   2999   \n",
       "111    AMD    Ryzen 9 9900X        AM5  54804   2149   \n",
       "112    AMD    Ryzen 9 9900X        AM5  54804   1999   \n",
       "113    AMD    Ryzen 9 9950X        AM5  66310   3049   \n",
       "114    AMD    Ryzen 9 9950X        AM5  66310   2849   \n",
       "\n",
       "                                                   URL            Timestamp  \n",
       "0    https://brightstarcomp.com/collections/pc-comp...  2025-03-18 22:10:07  \n",
       "1    https://brightstarcomp.com/collections/pc-comp...  2025-03-18 22:10:09  \n",
       "2    https://czone.my/czone/bx8071514100-1739103180...  2025-03-19 14:21:03  \n",
       "3    https://brightstarcomp.com/collections/pc-comp...  2025-03-18 22:10:09  \n",
       "4    https://brightstarcomp.com/collections/pc-comp...  2025-03-18 22:10:09  \n",
       "..                                                 ...                  ...  \n",
       "110  https://brightstarcomp.com/collections/pc-comp...  2025-03-18 22:10:09  \n",
       "111  https://brightstarcomp.com/collections/pc-comp...  2025-03-18 22:10:09  \n",
       "112  https://czone.my/czone/100-100000662wof-173910...  2025-03-19 14:21:03  \n",
       "113  https://brightstarcomp.com/collections/pc-comp...  2025-03-18 22:10:09  \n",
       "114  https://czone.my/czone/100-100001277wof-173910...  2025-03-19 14:21:03  \n",
       "\n",
       "[115 rows x 7 columns]"
      ]
     },
     "metadata": {},
     "output_type": "display_data"
    }
   ],
   "source": [
    "cpus.drop(columns='Note', inplace=True)\n",
    "display(cpus)"
   ]
  },
  {
   "cell_type": "code",
   "execution_count": 30,
   "id": "e0ce3a63",
   "metadata": {},
   "outputs": [
    {
     "data": {
      "text/html": [
       "<div>\n",
       "<style scoped>\n",
       "    .dataframe tbody tr th:only-of-type {\n",
       "        vertical-align: middle;\n",
       "    }\n",
       "\n",
       "    .dataframe tbody tr th {\n",
       "        vertical-align: top;\n",
       "    }\n",
       "\n",
       "    .dataframe thead th {\n",
       "        text-align: right;\n",
       "    }\n",
       "</style>\n",
       "<table border=\"1\" class=\"dataframe\">\n",
       "  <thead>\n",
       "    <tr style=\"text-align: right;\">\n",
       "      <th></th>\n",
       "      <th>Brand</th>\n",
       "      <th>Name</th>\n",
       "      <th>Size</th>\n",
       "      <th>Price</th>\n",
       "      <th>URL</th>\n",
       "      <th>Timestamp</th>\n",
       "      <th>Note</th>\n",
       "    </tr>\n",
       "  </thead>\n",
       "  <tbody>\n",
       "    <tr>\n",
       "      <th>0</th>\n",
       "      <td>1st Player</td>\n",
       "      <td>Mi7-A</td>\n",
       "      <td>ATX</td>\n",
       "      <td>199</td>\n",
       "      <td>https://brightstarcomp.com/collections/pc-comp...</td>\n",
       "      <td>2025-03-18 22:12:11</td>\n",
       "      <td>Tempered Glass, Black</td>\n",
       "    </tr>\n",
       "    <tr>\n",
       "      <th>1</th>\n",
       "      <td>1st Player</td>\n",
       "      <td>Mi7-A</td>\n",
       "      <td>ATX</td>\n",
       "      <td>199</td>\n",
       "      <td>https://brightstarcomp.com/collections/pc-comp...</td>\n",
       "      <td>2025-03-18 22:12:11</td>\n",
       "      <td>Tempered Glass, White</td>\n",
       "    </tr>\n",
       "    <tr>\n",
       "      <th>2</th>\n",
       "      <td>1st Player</td>\n",
       "      <td>T7-P</td>\n",
       "      <td>ATX</td>\n",
       "      <td>199</td>\n",
       "      <td>https://brightstarcomp.com/collections/pc-comp...</td>\n",
       "      <td>2025-03-18 22:12:11</td>\n",
       "      <td>Tempered Glass, Black</td>\n",
       "    </tr>\n",
       "    <tr>\n",
       "      <th>3</th>\n",
       "      <td>1st Player</td>\n",
       "      <td>T7-P</td>\n",
       "      <td>ATX</td>\n",
       "      <td>209</td>\n",
       "      <td>https://brightstarcomp.com/collections/pc-comp...</td>\n",
       "      <td>2025-03-18 22:12:11</td>\n",
       "      <td>Tempered Glass, White</td>\n",
       "    </tr>\n",
       "    <tr>\n",
       "      <th>4</th>\n",
       "      <td>Aerocool</td>\n",
       "      <td>Interstellar</td>\n",
       "      <td>ATX</td>\n",
       "      <td>389</td>\n",
       "      <td>https://brightstarcomp.com/collections/pc-comp...</td>\n",
       "      <td>2025-03-18 22:12:11</td>\n",
       "      <td>NaN</td>\n",
       "    </tr>\n",
       "    <tr>\n",
       "      <th>...</th>\n",
       "      <td>...</td>\n",
       "      <td>...</td>\n",
       "      <td>...</td>\n",
       "      <td>...</td>\n",
       "      <td>...</td>\n",
       "      <td>...</td>\n",
       "      <td>...</td>\n",
       "    </tr>\n",
       "    <tr>\n",
       "      <th>160</th>\n",
       "      <td>1st Player</td>\n",
       "      <td>X4-M</td>\n",
       "      <td>MATX</td>\n",
       "      <td>175</td>\n",
       "      <td>https://brightstarcomp.com/collections/pc-comp...</td>\n",
       "      <td>2025-03-18 22:12:11</td>\n",
       "      <td>NaN</td>\n",
       "    </tr>\n",
       "    <tr>\n",
       "      <th>161</th>\n",
       "      <td>Aerocool</td>\n",
       "      <td>CS-111 V2</td>\n",
       "      <td>MATX</td>\n",
       "      <td>119</td>\n",
       "      <td>https://brightstarcomp.com/collections/pc-comp...</td>\n",
       "      <td>2025-06-03 22:12:11</td>\n",
       "      <td>Black</td>\n",
       "    </tr>\n",
       "    <tr>\n",
       "      <th>162</th>\n",
       "      <td>Aerocool</td>\n",
       "      <td>CS-111 V2</td>\n",
       "      <td>MATX</td>\n",
       "      <td>119</td>\n",
       "      <td>https://brightstarcomp.com/collections/pc-comp...</td>\n",
       "      <td>2025-06-03 22:12:11</td>\n",
       "      <td>White</td>\n",
       "    </tr>\n",
       "    <tr>\n",
       "      <th>163</th>\n",
       "      <td>Aerocool</td>\n",
       "      <td>Viewport Mini V2</td>\n",
       "      <td>MATX</td>\n",
       "      <td>169</td>\n",
       "      <td>https://brightstarcomp.com/collections/pc-comp...</td>\n",
       "      <td>2025-03-18 22:12:11</td>\n",
       "      <td>Black</td>\n",
       "    </tr>\n",
       "    <tr>\n",
       "      <th>164</th>\n",
       "      <td>Aerocool</td>\n",
       "      <td>Viewport Mini V2</td>\n",
       "      <td>MATX</td>\n",
       "      <td>179</td>\n",
       "      <td>https://brightstarcomp.com/collections/pc-comp...</td>\n",
       "      <td>2025-03-18 22:12:11</td>\n",
       "      <td>White</td>\n",
       "    </tr>\n",
       "  </tbody>\n",
       "</table>\n",
       "<p>165 rows × 7 columns</p>\n",
       "</div>"
      ],
      "text/plain": [
       "          Brand              Name  Size  Price  \\\n",
       "0    1st Player             Mi7-A   ATX    199   \n",
       "1    1st Player             Mi7-A   ATX    199   \n",
       "2    1st Player              T7-P   ATX    199   \n",
       "3    1st Player              T7-P   ATX    209   \n",
       "4      Aerocool      Interstellar   ATX    389   \n",
       "..          ...               ...   ...    ...   \n",
       "160  1st Player              X4-M  MATX    175   \n",
       "161    Aerocool         CS-111 V2  MATX    119   \n",
       "162    Aerocool         CS-111 V2  MATX    119   \n",
       "163    Aerocool  Viewport Mini V2  MATX    169   \n",
       "164    Aerocool  Viewport Mini V2  MATX    179   \n",
       "\n",
       "                                                   URL            Timestamp  \\\n",
       "0    https://brightstarcomp.com/collections/pc-comp...  2025-03-18 22:12:11   \n",
       "1    https://brightstarcomp.com/collections/pc-comp...  2025-03-18 22:12:11   \n",
       "2    https://brightstarcomp.com/collections/pc-comp...  2025-03-18 22:12:11   \n",
       "3    https://brightstarcomp.com/collections/pc-comp...  2025-03-18 22:12:11   \n",
       "4    https://brightstarcomp.com/collections/pc-comp...  2025-03-18 22:12:11   \n",
       "..                                                 ...                  ...   \n",
       "160  https://brightstarcomp.com/collections/pc-comp...  2025-03-18 22:12:11   \n",
       "161  https://brightstarcomp.com/collections/pc-comp...  2025-06-03 22:12:11   \n",
       "162  https://brightstarcomp.com/collections/pc-comp...  2025-06-03 22:12:11   \n",
       "163  https://brightstarcomp.com/collections/pc-comp...  2025-03-18 22:12:11   \n",
       "164  https://brightstarcomp.com/collections/pc-comp...  2025-03-18 22:12:11   \n",
       "\n",
       "                      Note  \n",
       "0    Tempered Glass, Black  \n",
       "1    Tempered Glass, White  \n",
       "2    Tempered Glass, Black  \n",
       "3    Tempered Glass, White  \n",
       "4                      NaN  \n",
       "..                     ...  \n",
       "160                    NaN  \n",
       "161                  Black  \n",
       "162                  White  \n",
       "163                  Black  \n",
       "164                  White  \n",
       "\n",
       "[165 rows x 7 columns]"
      ]
     },
     "metadata": {},
     "output_type": "display_data"
    }
   ],
   "source": [
    "def rm_string_to_int(val):\n",
    "    \"\"\"\n",
    "    Converts strings like 'RM110.00' to 110 (int).\n",
    "    If already int, returns as is.\n",
    "    If cannot convert, returns pd.NA.\n",
    "    \"\"\"\n",
    "    if isinstance(val, int):\n",
    "        return val\n",
    "    if isinstance(val, float) and not np.isnan(val):\n",
    "        return int(val)\n",
    "    if isinstance(val, str):\n",
    "        # Remove 'RM', commas, and anything after decimal\n",
    "        cleaned = val.replace('RM', '').replace(',', '').strip()\n",
    "        try:\n",
    "            return int(float(cleaned))\n",
    "        except ValueError:\n",
    "            return pd.NA\n",
    "    return pd.NA\n",
    "\n",
    "df['Price'] = df['Price'].apply(rm_string_to_int).astype('Int64')\n",
    "display(df)"
   ]
  },
  {
   "cell_type": "code",
   "execution_count": 31,
   "id": "c014eb47",
   "metadata": {},
   "outputs": [],
   "source": [
    "pd.set_option('display.max_rows', 300)"
   ]
  },
  {
   "cell_type": "code",
   "execution_count": 3,
   "id": "891843eb",
   "metadata": {},
   "outputs": [],
   "source": [
    "colour_list = [\"White\", \"Black\", \"Grey\", \"Snow\"]\n",
    "\n",
    "def extract_colour_and_note(note):\n",
    "    if pd.isna(note):\n",
    "        return pd.Series([None, None])\n",
    "    parts = [part.strip() for part in note.split(',')]\n",
    "    found_colour = None\n",
    "    other_notes = []\n",
    "    for part in parts:\n",
    "        if part in colour_list:\n",
    "            found_colour = part\n",
    "        else:\n",
    "            # Replace 'Tempered Glass' with 'TG'\n",
    "            if part == \"Tempered Glass\":\n",
    "                other_notes.append(\"TG\")\n",
    "            else:\n",
    "                other_notes.append(part)\n",
    "    return pd.Series([found_colour, ', '.join(other_notes) if other_notes else pd.NA])\n",
    "\n",
    "df[['Colour', 'Note']] = df['Note'].apply(extract_colour_and_note)"
   ]
  },
  {
   "cell_type": "code",
   "execution_count": 11,
   "id": "8243fc6d",
   "metadata": {},
   "outputs": [
    {
     "data": {
      "text/plain": [
       "Index(['Unnamed: 0', 'Brand', 'Name', 'Socket', 'Score', 'Price', 'URL',\n",
       "       'Timestamp'],\n",
       "      dtype='object')"
      ]
     },
     "execution_count": 11,
     "metadata": {},
     "output_type": "execute_result"
    }
   ],
   "source": [
    "cpus.columns"
   ]
  },
  {
   "cell_type": "code",
   "execution_count": 12,
   "id": "028558ce",
   "metadata": {},
   "outputs": [],
   "source": [
    "cpus.drop(columns='Unnamed: 0', inplace=True)\n",
    "cpus.to_csv(\"data/parts/CPU_Data.csv\", index=False)"
   ]
  }
 ],
 "metadata": {
  "kernelspec": {
   "display_name": "DM",
   "language": "python",
   "name": "python3"
  },
  "language_info": {
   "codemirror_mode": {
    "name": "ipython",
    "version": 3
   },
   "file_extension": ".py",
   "mimetype": "text/x-python",
   "name": "python",
   "nbconvert_exporter": "python",
   "pygments_lexer": "ipython3",
   "version": "3.12.7"
  }
 },
 "nbformat": 4,
 "nbformat_minor": 5
}
