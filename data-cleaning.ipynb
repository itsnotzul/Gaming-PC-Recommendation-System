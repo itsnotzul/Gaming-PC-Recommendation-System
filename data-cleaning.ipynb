{
 "cells": [
  {
   "cell_type": "markdown",
   "metadata": {},
   "source": [
    "# Data Cleaning"
   ]
  },
  {
   "cell_type": "code",
   "execution_count": 1,
   "metadata": {},
   "outputs": [],
   "source": [
    "# install this if u havent\n",
    "\n",
    "# !pip install beautifulsoup4"
   ]
  },
  {
   "cell_type": "code",
   "execution_count": 1,
   "metadata": {},
   "outputs": [],
   "source": [
    "import re\n",
    "import requests\n",
    "import pandas as pd\n",
    "import numpy as np\n",
    "import seaborn as sns\n",
    "from bs4 import BeautifulSoup"
   ]
  },
  {
   "cell_type": "code",
   "execution_count": null,
   "metadata": {},
   "outputs": [],
   "source": [
    "# set a path there if the files cant be read\n",
    "path = \"\"\n",
    "\n",
    "# for game name and id\n",
    "# quotechar='\"' and escapechar='\\\\' used for handling nested quotes\n",
    "df_game = pd.read_csv(\n",
    "    path + 'steam-insights-main/games.csv', \n",
    "    usecols=[\"app_id\", \"name\"], \n",
    "    quotechar='\"', \n",
    "    escapechar='\\\\'\n",
    ")\n",
    "\n",
    "# for viewing the number of recomendations for the games\n",
    "df_review = pd.read_csv(path + 'steam-insights-main/reviews.csv', usecols=[0, 8])\n",
    "\n",
    "# for retrieving genres (not needed for now but when we start including the recc engine for games this will be used)\n",
    "df_genre = pd.read_csv(path + 'steam-insights-main/genres.csv')\n"
   ]
  },
  {
   "cell_type": "code",
   "execution_count": 3,
   "metadata": {},
   "outputs": [],
   "source": [
    "# first change all the app_id into numeric to avoid issues\n",
    "df_game['app_id'] = pd.to_numeric(df_game['app_id'], errors='coerce')\n",
    "df_review['app_id'] = pd.to_numeric(df_review['app_id'], errors='coerce')"
   ]
  },
  {
   "cell_type": "code",
   "execution_count": null,
   "metadata": {},
   "outputs": [],
   "source": [
    "df_game.head()"
   ]
  },
  {
   "cell_type": "code",
   "execution_count": null,
   "metadata": {},
   "outputs": [],
   "source": [
    "df_review.head()"
   ]
  },
  {
   "cell_type": "code",
   "execution_count": 4,
   "metadata": {},
   "outputs": [],
   "source": [
    "# now these 2 dataframes will be merged\n",
    "df = pd.merge(df_game, df_review, on='app_id', how='inner')"
   ]
  },
  {
   "cell_type": "code",
   "execution_count": null,
   "metadata": {},
   "outputs": [],
   "source": [
    "df.head()"
   ]
  },
  {
   "cell_type": "code",
   "execution_count": null,
   "metadata": {},
   "outputs": [],
   "source": [
    "# Now to fix the recommendations column because theres non numeric values\n",
    "\n",
    "# Convert non-numeric values to NaN \n",
    "df['recommendations'] = pd.to_numeric(df['recommendations'], errors='coerce')\n",
    "\n",
    "# Replace NaN to 0\n",
    "df['recommendations'].fillna(0, inplace=True)\n",
    "\n",
    "# change recommendations to int64 to remove decimals\n",
    "df['recommendations'] = df['recommendations'].astype('int64')"
   ]
  },
  {
   "cell_type": "code",
   "execution_count": null,
   "metadata": {},
   "outputs": [],
   "source": [
    "df.head()"
   ]
  },
  {
   "cell_type": "code",
   "execution_count": 41,
   "metadata": {},
   "outputs": [],
   "source": [
    "# Now with the these columns cleaned we need to include the requirements of the games\n",
    "# CPU, GPU and ram\n",
    "\n",
    "# To test this only the top 100 recommended games will be used.\n",
    "# I am using the top recommended games because there is no way to get the top rated games on steam\n",
    "# The most relevent games dont have enough variaty in game requirements\n",
    "# Sorting by \"User Reviews\" doesnt give the most recommended games for some reason (????)\n",
    "\n",
    "df_test = df.sort_values(by='recommendations', ascending=False).head(100)\n",
    "\n",
    "df_test = df_test.reset_index(drop=True)"
   ]
  },
  {
   "cell_type": "code",
   "execution_count": null,
   "metadata": {},
   "outputs": [],
   "source": [
    "df_test.head(10)\n",
    "# print(df_test.columns)"
   ]
  },
  {
   "cell_type": "code",
   "execution_count": 43,
   "metadata": {},
   "outputs": [],
   "source": [
    "# I will be webscrapping the game requirements from steam.com\n",
    "# Thankfully wescraping for public information on this website is allowed\n",
    "\n",
    "# Add new columns for the game requirments\n",
    "df_test['genres'] = None\n",
    "df_test['CPU'] = None\n",
    "df_test['GPU'] = None\n",
    "df_test['memory'] = None\n",
    "\n",
    "for index, row in df_test.iterrows():\n",
    "    id = str(row['app_id'])\n",
    "    url = \"https://store.steampowered.com/app/\" + id\n",
    "\n",
    "    cookies = {'birthtime': '568022401'}\n",
    "    response = requests.get(url)\n",
    "\n",
    "    if response.status_code != 200:\n",
    "        print(\"Failed to retrieve the page for \" + row['name'])\n",
    "\n",
    "    soup = BeautifulSoup(response.content, 'html.parser')\n",
    "\n",
    "    # Extract genres\n",
    "    genres = []\n",
    "    genre_section = soup.find('div', id='genresAndManufacturer')\n",
    "\n",
    "    if genre_section:\n",
    "        genre_span = genre_section.find('span')\n",
    "        if genre_span:\n",
    "            genres = [genre.text.strip() for genre in genre_span.find_all('a')]\n",
    "\n",
    "    # Extract recommended system requirements\n",
    "    suggested_reqs = {}\n",
    "    reqs_section = soup.find('div', class_='game_area_sys_req_rightCol')\n",
    "\n",
    "    # Check for the specific phrase and switch to left column if found\n",
    "    if reqs_section and \"Requires a 64-bit processor and operating system\" in reqs_section.get_text():\n",
    "        reqs_section = soup.find('div', class_='game_area_sys_req_leftCol')\n",
    "\n",
    "    # If only minimum requirements are stated\n",
    "    if not reqs_section:\n",
    "        reqs_section = soup.find('div', class_='game_area_sys_req_full')\n",
    "        \n",
    "    if reqs_section:\n",
    "        # Find the <ul class=\"bb_ul\"> containing the requirements\n",
    "        reqs_list = reqs_section.find('ul', class_='bb_ul')\n",
    "        if reqs_list:\n",
    "            # Iterate over the list items to extract the requirement details\n",
    "            for li in reqs_list.find_all('li'):\n",
    "                text = li.get_text(strip=True)\n",
    "                if text:\n",
    "                    # Identify and store relevant information\n",
    "                    if text.startswith('OS'):\n",
    "                        suggested_reqs['OS'] = text\n",
    "                    elif text.startswith('Processor'):\n",
    "                        suggested_reqs['Processor'] = text.replace('Processor:', '', 1).strip()\n",
    "                    elif text.startswith('Memory'):\n",
    "                        suggested_reqs['Memory'] = text.replace('Memory:', '', 1).replace(' RAM', '', 1).strip()\n",
    "                    elif text.startswith('Graphics'):\n",
    "                        suggested_reqs['Graphics'] = text.replace('Graphics:', '', 1).strip()\n",
    "                    if not suggested_reqs.get('Graphics') and text.startswith('Video Card'):\n",
    "                        suggested_reqs['Graphics'] = text.replace('Video Card:', '', 1).strip()\n",
    "    \n",
    "    # Update columns with scraped data\n",
    "    df_test.at[index, 'genres'] = genres \n",
    "    df_test.at[index, 'CPU'] = suggested_reqs.get('Processor', 'Not Available')\n",
    "    df_test.at[index, 'GPU'] = suggested_reqs.get('Graphics', 'Not Available')\n",
    "    df_test.at[index, 'memory'] = suggested_reqs.get('Memory', 'Not Available')\n"
   ]
  },
  {
   "cell_type": "code",
   "execution_count": 45,
   "metadata": {},
   "outputs": [],
   "source": [
    "df_test.to_csv('top100.csv', index=False)"
   ]
  },
  {
   "cell_type": "code",
   "execution_count": 48,
   "metadata": {},
   "outputs": [],
   "source": [
    "df100 = pd.read_csv(path + 'top100.csv')"
   ]
  },
  {
   "cell_type": "code",
   "execution_count": null,
   "metadata": {},
   "outputs": [],
   "source": [
    "df100.head(10)"
   ]
  },
  {
   "cell_type": "code",
   "execution_count": null,
   "metadata": {},
   "outputs": [],
   "source": [
    "# Now with a csv file with the game's name, genres and hardware requirements \n",
    "# The next step is to get a benchmark dataset to map then gauge what pc's to suggest to the user\n",
    "# But first since theres multiple cpu/gpu recommendation it has to be cleaned and made into a list for ease of checking\n",
    "# or i could do it manually (may be the case honestly)"
   ]
  },
  {
   "cell_type": "code",
   "execution_count": 52,
   "metadata": {},
   "outputs": [],
   "source": [
    "phrases = ['or or equivalent', 'or higher', 'or better']\n",
    "\n",
    "def remove_phrase(text):\n",
    "    if isinstance(text, str):\n",
    "        for phrase in phrases:\n",
    "            text = text.replace(phrase, '').strip()\n",
    "    return text\n",
    "\n",
    "df100['CPU'] = df100['CPU'].apply(remove_phrase)\n",
    "df100['GPU'] = df100['GPU'].apply(remove_phrase)"
   ]
  },
  {
   "cell_type": "code",
   "execution_count": null,
   "metadata": {},
   "outputs": [],
   "source": [
    "df100.head(30)"
   ]
  }
 ],
 "metadata": {
  "kernelspec": {
   "display_name": "Python 3",
   "language": "python",
   "name": "python3"
  },
  "language_info": {
   "codemirror_mode": {
    "name": "ipython",
    "version": 3
   },
   "file_extension": ".py",
   "mimetype": "text/x-python",
   "name": "python",
   "nbconvert_exporter": "python",
   "pygments_lexer": "ipython3",
   "version": "3.12.3"
  }
 },
 "nbformat": 4,
 "nbformat_minor": 2
}
